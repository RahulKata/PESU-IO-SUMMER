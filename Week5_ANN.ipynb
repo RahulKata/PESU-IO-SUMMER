{
  "nbformat": 4,
  "nbformat_minor": 0,
  "metadata": {
    "colab": {
      "name": "Untitled0.ipynb",
      "version": "0.3.2",
      "provenance": []
    },
    "kernelspec": {
      "name": "python3",
      "display_name": "Python 3"
    }
  },
  "cells": [
    {
      "cell_type": "code",
      "metadata": {
        "id": "UxNFLn5o8l0g",
        "colab_type": "code",
        "colab": {}
      },
      "source": [
        "import tensorflow as tf\n",
        "import tensorflow.keras as keras\n",
        "import numpy as np\n",
        "import matplotlib.pyplot as plt"
      ],
      "execution_count": 0,
      "outputs": []
    },
    {
      "cell_type": "code",
      "metadata": {
        "id": "rqSiZuGh8-2t",
        "colab_type": "code",
        "colab": {}
      },
      "source": [
        "fashion_mnist = keras.datasets.fashion_mnist\n",
        "\n",
        "(train_images, train_labels), (test_images, test_labels) = fashion_mnist.load_data()"
      ],
      "execution_count": 0,
      "outputs": []
    },
    {
      "cell_type": "code",
      "metadata": {
        "id": "cXO9nG5H9Ex9",
        "colab_type": "code",
        "colab": {
          "base_uri": "https://localhost:8080/",
          "height": 52
        },
        "outputId": "9b7ad943-fe63-473e-e973-b2e4239cfe5f"
      },
      "source": [
        "print(len(test_images),'\\t',len(train_images),'\\n',train_images.shape,'\\t',test_images.shape)"
      ],
      "execution_count": 28,
      "outputs": [
        {
          "output_type": "stream",
          "text": [
            "10000 \t 60000 \n",
            " (60000, 28, 28) \t (10000, 28, 28)\n"
          ],
          "name": "stdout"
        }
      ]
    },
    {
      "cell_type": "code",
      "metadata": {
        "id": "bxkca9Xv90Fb",
        "colab_type": "code",
        "colab": {}
      },
      "source": [
        "class_names = ['T-shirt/top', 'Trouser', 'Pullover', 'Dress', 'Coat',\n",
        "               'Sandal', 'Shirt', 'Sneaker', 'Bag', 'Ankle boot']\n",
        "train_images = train_images / 255\n",
        "test_images = test_images / 255\n"
      ],
      "execution_count": 0,
      "outputs": []
    },
    {
      "cell_type": "code",
      "metadata": {
        "id": "AcRjnQRy-SGY",
        "colab_type": "code",
        "colab": {}
      },
      "source": [
        "model = keras.Sequential([\n",
        "    keras.layers.Flatten(input_shape=(28, 28)),\n",
        "    keras.layers.Dense(512, activation=tf.nn.relu),\n",
        "    keras.layers.Dense(10, activation=tf.nn.softmax)\n",
        "])"
      ],
      "execution_count": 0,
      "outputs": []
    },
    {
      "cell_type": "code",
      "metadata": {
        "id": "tOnXI1mf-dVv",
        "colab_type": "code",
        "colab": {
          "base_uri": "https://localhost:8080/",
          "height": 390
        },
        "outputId": "38a200ef-23c8-4d0e-edb2-74fba9093c62"
      },
      "source": [
        "model.compile(optimizer='rmsprop',\n",
        "              loss='sparse_categorical_crossentropy',\n",
        "              metrics=['accuracy'])\n",
        "model.fit(train_images, train_labels, epochs = 10)"
      ],
      "execution_count": 35,
      "outputs": [
        {
          "output_type": "stream",
          "text": [
            "Epoch 1/10\n",
            "60000/60000 [==============================] - 13s 213us/sample - loss: 0.4952 - acc: 0.8237\n",
            "Epoch 2/10\n",
            "60000/60000 [==============================] - 13s 222us/sample - loss: 0.3778 - acc: 0.8659\n",
            "Epoch 3/10\n",
            "60000/60000 [==============================] - 13s 211us/sample - loss: 0.3553 - acc: 0.8769\n",
            "Epoch 4/10\n",
            "60000/60000 [==============================] - 14s 229us/sample - loss: 0.3426 - acc: 0.8843\n",
            "Epoch 5/10\n",
            "60000/60000 [==============================] - 14s 230us/sample - loss: 0.3316 - acc: 0.8892\n",
            "Epoch 6/10\n",
            "60000/60000 [==============================] - 13s 220us/sample - loss: 0.3184 - acc: 0.8934\n",
            "Epoch 7/10\n",
            "60000/60000 [==============================] - 14s 228us/sample - loss: 0.3162 - acc: 0.8970\n",
            "Epoch 8/10\n",
            "60000/60000 [==============================] - 13s 219us/sample - loss: 0.3111 - acc: 0.8976\n",
            "Epoch 9/10\n",
            "60000/60000 [==============================] - 14s 228us/sample - loss: 0.3102 - acc: 0.9016\n",
            "Epoch 10/10\n",
            "60000/60000 [==============================] - 14s 231us/sample - loss: 0.3015 - acc: 0.9040\n"
          ],
          "name": "stdout"
        },
        {
          "output_type": "execute_result",
          "data": {
            "text/plain": [
              "<tensorflow.python.keras.callbacks.History at 0x7f092ad1ee80>"
            ]
          },
          "metadata": {
            "tags": []
          },
          "execution_count": 35
        }
      ]
    },
    {
      "cell_type": "code",
      "metadata": {
        "id": "u5fD4HxbEKl9",
        "colab_type": "code",
        "colab": {
          "base_uri": "https://localhost:8080/",
          "height": 52
        },
        "outputId": "1253f24f-8543-4c40-d973-e6fa86a1d9c9"
      },
      "source": [
        "test_loss, test_acc = model.evaluate(test_images, test_labels)\n",
        "\n",
        "print('Test accuracy:', test_acc)\n",
        "\n",
        "predictions = model.predict(test_images)"
      ],
      "execution_count": 39,
      "outputs": [
        {
          "output_type": "stream",
          "text": [
            "10000/10000 [==============================] - 1s 84us/sample - loss: 0.4711 - acc: 0.8757\n",
            "Test accuracy: 0.8757\n"
          ],
          "name": "stdout"
        }
      ]
    }
  ]
}